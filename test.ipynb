{
 "cells": [
  {
   "cell_type": "code",
   "execution_count": 3,
   "metadata": {},
   "outputs": [
    {
     "name": "stdout",
     "output_type": "stream",
     "text": [
      "718f335e3987a9a14696d2dd650ccf3370a97427ac155f5ff37b99c991745423\n"
     ]
    }
   ],
   "source": [
    "import os\n",
    "from dotenv import load_dotenv\n",
    "from langchain.chains import LLMChain\n",
    "from langchain import PromptTemplate\n",
    "from langchain.agents import initialize_agent, Tool\n",
    "from langchain.agents import AgentType\n",
    "from langchain.chat_models import ChatOpenAI\n",
    "from langchain.prompts import MessagesPlaceholder\n",
    "from langchain.memory import ConversationSummaryBufferMemory\n",
    "from langchain.tools import BaseTool\n",
    "from pydantic import BaseModel, Field\n",
    "from typing import Type\n",
    "from bs4 import BeautifulSoup\n",
    "import requests\n",
    "import json\n",
    "from langchain.schema import SystemMessage\n",
    "from fastapi import FastAPI\n",
    "\n",
    "\n",
    "load_dotenv()\n",
    "brwoserless_api_key = os.getenv(\"BROWSERLESS_API_KEY\")\n",
    "serper_api_key = os.getenv(\"SERP_API_KEY\")\n",
    "print(serper_api_key)\n",
    "# 1. Tool for search\n",
    "\n",
    "\n",
    "params = {\n",
    "  api_key: \"718f335e3987a9a14696d2dd650ccf3370a97427ac155f5ff37b99c991745423\",\n",
    "  engine: \"google\",\n",
    "  q: \"Marxism\",\n",
    "  location: \"Austin, Texas, United States\",\n",
    "  google_domain: \"google.com\",\n",
    "  gl: \"us\",\n",
    "  hl: \"en\"\n",
    "}\n",
    "\n",
    "def search(query):\n",
    "    url = \"https://google.serper.dev/search\"\n",
    "\n",
    "    payload = json.dumps({\n",
    "        \"q\": query\n",
    "    })\n",
    "\n",
    "    headers = {\n",
    "        'X-API-KEY': serper_api_key,\n",
    "        'Content-Type': 'application/json'\n",
    "    }\n",
    "\n",
    "    response = requests.request(\"POST\", url, headers=headers, data=payload)\n",
    "\n",
    "    print(response.text)\n",
    "\n",
    "    return response.text\n"
   ]
  },
  {
   "cell_type": "code",
   "execution_count": 2,
   "metadata": {},
   "outputs": [
    {
     "name": "stdout",
     "output_type": "stream",
     "text": [
      "{\"message\":\"Unauthorized.\",\"statusCode\":403}\n"
     ]
    },
    {
     "data": {
      "text/plain": [
       "'{\"message\":\"Unauthorized.\",\"statusCode\":403}'"
      ]
     },
     "execution_count": 2,
     "metadata": {},
     "output_type": "execute_result"
    }
   ],
   "source": [
    "search(\"Marxism\")"
   ]
  },
  {
   "cell_type": "code",
   "execution_count": null,
   "metadata": {},
   "outputs": [],
   "source": [
    "from serpapi import GoogleSearch\n",
    "\n",
    "params = {\n",
    "  \"api_key\": \"718f335e3987a9a14696d2dd650ccf3370a97427ac155f5ff37b99c991745423\",\n",
    "  \"engine\": \"google\",\n",
    "  \"q\": \"Marxism\",\n",
    "  \"location\": \"Austin, Texas, United States\",\n",
    "  \"google_domain\": \"google.com\",\n",
    "  \"gl\": \"us\",\n",
    "  \"hl\": \"en\"\n",
    "}\n",
    "\n",
    "search = GoogleSearch(params)\n",
    "results = search.get_dict()"
   ]
  }
 ],
 "metadata": {
  "kernelspec": {
   "display_name": ".venv",
   "language": "python",
   "name": "python3"
  },
  "language_info": {
   "codemirror_mode": {
    "name": "ipython",
    "version": 3
   },
   "file_extension": ".py",
   "mimetype": "text/x-python",
   "name": "python",
   "nbconvert_exporter": "python",
   "pygments_lexer": "ipython3",
   "version": "3.8.10"
  }
 },
 "nbformat": 4,
 "nbformat_minor": 2
}
